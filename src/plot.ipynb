{
 "cells": [
  {
   "cell_type": "code",
   "execution_count": 3,
   "metadata": {},
   "outputs": [],
   "source": [
    "import pandas as pd\n",
    "import numpy as np"
   ]
  },
  {
   "cell_type": "code",
   "execution_count": 11,
   "metadata": {},
   "outputs": [],
   "source": [
    "def read_file(f: str) -> list:\n",
    "    l = []\n",
    "    with open(f,'r') as fr:\n",
    "        for line in fr:\n",
    "            l.append(int(line.strip()))\n",
    "    return l\n",
    "\n",
    "query_all = read_file(\"query_length_all.txt\")\n",
    "query_true = read_file(\"query_length_true.txt\")\n",
    "query_false = read_file(\"query_length_false.txt\")"
   ]
  },
  {
   "cell_type": "code",
   "execution_count": 46,
   "metadata": {},
   "outputs": [
    {
     "data": {
      "text/plain": [
       "<matplotlib.axes._subplots.AxesSubplot at 0x7fd36ec7c510>"
      ]
     },
     "execution_count": 46,
     "metadata": {},
     "output_type": "execute_result"
    },
    {
     "data": {
      "image/png": "[encoded data removed]",
      "text/plain": [
       "<Figure size 432x288 with 1 Axes>"
      ]
     },
     "metadata": {
      "needs_background": "light"
     },
     "output_type": "display_data"
    }
   ],
   "source": [
    "#df = pd.DataFrame(np.random.rand(10, 5), columns=['A', 'B', 'C', 'D', 'E'])\n",
    "data = {'All':query_all, 'True':query_true, 'False':query_false}\n",
    "df = pd.DataFrame.from_dict(data, orient='index')\n",
    "df = df.transpose()\n",
    "#df = pd.DataFrame([query_all, query_true, query_false], columns=['All','True','False'])\n",
    "\n",
    "df.plot.box()"
   ]
  },
  {
   "cell_type": "code",
   "execution_count": 22,
   "metadata": {},
   "outputs": [
    {
     "name": "stdout",
     "output_type": "stream",
     "text": [
      "All True 0.08446879451271588\n",
      "All False 0.004161446434949628\n",
      "True False 7.858751823483819e-05\n"
     ]
    }
   ],
   "source": [
    "from itertools import combinations\n",
    "from scipy.stats import ttest_ind\n",
    "for list1, list2 in combinations(data.keys(), 2):\n",
    "    t, p = ttest_ind(data[list1], data[list2])\n",
    "    print(list1, list2, p)"
   ]
  },
  {
   "cell_type": "code",
   "execution_count": 48,
   "metadata": {},
   "outputs": [
    {
     "name": "stdout",
     "output_type": "stream",
     "text": [
      "     All  True  False\n",
      "0    8.0   8.0    4.0\n",
      "1    4.0   3.0    4.0\n",
      "2    3.0   3.0    2.0\n",
      "3    3.0   6.0    8.0\n",
      "4    6.0   4.0    7.0\n",
      "..   ...   ...    ...\n",
      "106  3.0   NaN    NaN\n",
      "107  5.0   NaN    NaN\n",
      "108  5.0   NaN    NaN\n",
      "109  2.0   NaN    NaN\n",
      "110  3.0   NaN    NaN\n",
      "\n",
      "[111 rows x 3 columns]\n"
     ]
    }
   ],
   "source": [
    "print(df)"
   ]
  },
  {
   "cell_type": "code",
   "execution_count": 63,
   "metadata": {},
   "outputs": [
    {
     "name": "stdout",
     "output_type": "stream",
     "text": [
      "     All  True  False\n",
      "0    8.0   8.0    4.0\n",
      "1    4.0   3.0    4.0\n",
      "2    3.0   3.0    2.0\n",
      "3    3.0   6.0    8.0\n",
      "4    6.0   4.0    7.0\n",
      "..   ...   ...    ...\n",
      "106  3.0   NaN    NaN\n",
      "107  5.0   NaN    NaN\n",
      "108  5.0   NaN    NaN\n",
      "109  2.0   NaN    NaN\n",
      "110  3.0   NaN    NaN\n",
      "\n",
      "[111 rows x 3 columns]\n",
      "p-value annotation legend:\n",
      "ns: 5.00e-02 < p <= 1.00e+00\n",
      "*: 1.00e-02 < p <= 5.00e-02\n",
      "**: 1.00e-03 < p <= 1.00e-02\n",
      "***: 1.00e-04 < p <= 1.00e-03\n",
      "****: p <= 1.00e-04\n",
      "\n",
      "All v.s. True: t-test independent samples with Bonferroni correction, P_val=2.534e-01 stat=-1.735e+00\n",
      "True v.s. False: t-test independent samples with Bonferroni correction, P_val=2.358e-04 stat=4.104e+00\n",
      "All v.s. False: t-test independent samples with Bonferroni correction, P_val=1.248e-02 stat=2.911e+00\n"
     ]
    },
    {
     "data": {
      "text/plain": [
       "(<matplotlib.axes._subplots.AxesSubplot at 0x7fd36e7998d0>,\n",
       " [<statannot.StatResult.StatResult at 0x7fd36e693f10>,\n",
       "  <statannot.StatResult.StatResult at 0x7fd36e62e950>,\n",
       "  <statannot.StatResult.StatResult at 0x7fd36e6a8ed0>])"
      ]
     },
     "execution_count": 63,
     "metadata": {},
     "output_type": "execute_result"
    },
    {
     "data": {
      "image/png": "[encoded data removed]",
      "text/plain": [
       "<Figure size 432x288 with 1 Axes>"
      ]
     },
     "metadata": {
      "needs_background": "light"
     },
     "output_type": "display_data"
    }
   ],
   "source": [
    "import seaborn as sns\n",
    "from statannot import add_stat_annotation\n",
    "\n",
    "#df = sns.load_dataset(\"tips\")\n",
    "#x = \"day\"\n",
    "#y = \"query length\"\n",
    "#order = ['Sun', 'Thur', 'Fri', 'Sat']\n",
    "\n",
    "#df = pd.DataFrame(np.random.rand(10, 5), columns=['A', 'B', 'C', 'D', 'E'])\n",
    "data = {'All':query_all, 'True':query_true, 'False':query_false}\n",
    "df = pd.DataFrame.from_dict(data, orient='index')\n",
    "df = df.transpose()\n",
    "#df = pd.DataFrame([query_all, query_true, query_false], columns=['All','True','False'])\n",
    "print(df)\n",
    "order = [\"All\",\"True\",\"False\"]\n",
    "ax = sns.boxplot(data=df)\n",
    "#test_results = add_stat_annotation(ax, data=df, order=order,\n",
    "#                                   box_pairs=[(\"All\", \"True\"), (\"All\", \"False\"), (\"True\", \"False\")],\n",
    "#                                   test='Mann-Whitney', text_format='star',\n",
    "#                                   loc='outside', verbose=2)\n",
    "\n",
    "test_results = add_stat_annotation(ax, data=df, order=order,\n",
    "                                   box_pairs=[(\"All\", \"True\"), (\"All\", \"False\"), (\"True\", \"False\")],\n",
    "                                   test='t-test_ind', text_format='star',\n",
    "                                   loc='outside', verbose=2)\n",
    "\n",
    "test_results"
   ]
  },
  {
   "cell_type": "code",
   "execution_count": null,
   "metadata": {},
   "outputs": [],
   "source": []
  },
  {
   "cell_type": "code",
   "execution_count": null,
   "metadata": {},
   "outputs": [],
   "source": []
  },
  {
   "cell_type": "code",
   "execution_count": 66,
   "metadata": {},
   "outputs": [
    {
     "name": "stdout",
     "output_type": "stream",
     "text": [
      "    Delta_False  Delta_False2\n",
      "0      0.007320      0.108525\n",
      "1      0.002804      0.017986\n",
      "2      0.108525      0.040970\n",
      "3      0.032872      0.039614\n",
      "4      0.028478      0.011552\n",
      "5      0.031818      0.008203\n",
      "6      0.005618      0.005896\n",
      "7      0.029468      0.045203\n",
      "8      0.080137      0.036065\n",
      "9      0.001106      0.010213\n",
      "10     0.049032      0.032124\n",
      "11     0.000829      0.011534\n",
      "12     0.022553      0.046693\n",
      "13     0.021502      0.038799\n",
      "14     0.005673      0.058059\n",
      "15     0.017986           NaN\n",
      "16     0.044025           NaN\n",
      "17     0.040970           NaN\n",
      "18     0.039614           NaN\n",
      "19     0.024626           NaN\n",
      "20     0.039792           NaN\n",
      "21     0.051841           NaN\n",
      "22     0.011552           NaN\n",
      "23     0.066284           NaN\n",
      "24     0.008203           NaN\n",
      "25     0.023173           NaN\n",
      "26     0.005896           NaN\n",
      "27     0.045203           NaN\n",
      "28     0.036065           NaN\n",
      "29     0.026513           NaN\n",
      "30     0.010213           NaN\n",
      "31     0.032124           NaN\n",
      "32     0.011534           NaN\n",
      "33     0.046693           NaN\n",
      "34     0.022349           NaN\n",
      "35     0.013254           NaN\n",
      "36     0.001174           NaN\n",
      "37     0.026142           NaN\n",
      "38     0.038799           NaN\n",
      "39     0.058059           NaN\n",
      "p-value annotation legend:\n",
      "ns: 5.00e-02 < p <= 1.00e+00\n",
      "*: 1.00e-02 < p <= 5.00e-02\n",
      "**: 1.00e-03 < p <= 1.00e-02\n",
      "***: 1.00e-04 < p <= 1.00e-03\n",
      "****: p <= 1.00e-04\n",
      "\n",
      "Delta_False v.s. Delta_False2: t-test independent samples with Bonferroni correction, P_val=5.062e-01 stat=-6.693e-01\n"
     ]
    },
    {
     "data": {
      "image/png": "[encoded data removed]",
      "text/plain": [
       "<Figure size 432x288 with 1 Axes>"
      ]
     },
     "metadata": {
      "needs_background": "light"
     },
     "output_type": "display_data"
    }
   ],
   "source": [
    "import seaborn as sns\n",
    "from statannot import add_stat_annotation\n",
    "\n",
    "def read_file2(f: str) -> list:\n",
    "    l = []\n",
    "    with open(f,'r') as fr:\n",
    "        for line in fr:\n",
    "            l.append(float(line.strip()))\n",
    "    return l\n",
    "\n",
    "delta_false = read_file2(\"delta_value_false.txt\")\n",
    "delta_false2 = read_file2(\"delta_value_false_2.txt\")\n",
    "\n",
    "#df = pd.DataFrame(np.random.rand(10, 5), columns=['A', 'B', 'C', 'D', 'E'])\n",
    "data = {'Delta_False':delta_false,'Delta_False2':delta_false2}\n",
    "df = pd.DataFrame.from_dict(data, orient='index')\n",
    "df = df.transpose()\n",
    "#df = pd.DataFrame([query_all, query_true, query_false], columns=['All','True','False'])\n",
    "print(df)\n",
    "order = [\"Delta_False\",\"Delta_False2\"]\n",
    "ax = sns.boxplot(data=df)\n",
    "\n",
    "test_results = add_stat_annotation(ax, data=df, order=order,\n",
    "                                   box_pairs=[(\"Delta_False\", \"Delta_False2\")],\n",
    "                                   test='t-test_ind', text_format='star',\n",
    "                                   loc='outside', verbose=2)"
   ]
  },
  {
   "cell_type": "code",
   "execution_count": null,
   "metadata": {},
   "outputs": [],
   "source": []
  }
 ],
 "metadata": {
  "kernelspec": {
   "display_name": "Python 3",
   "language": "python",
   "name": "python3"
  },
  "language_info": {
   "codemirror_mode": {
    "name": "ipython",
    "version": 3
   },
   "file_extension": ".py",
   "mimetype": "text/x-python",
   "name": "python",
   "nbconvert_exporter": "python",
   "pygments_lexer": "ipython3",
   "version": "3.7.6"
  }
 },
 "nbformat": 4,
 "nbformat_minor": 4
}
